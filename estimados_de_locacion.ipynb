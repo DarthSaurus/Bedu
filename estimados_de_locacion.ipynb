{
  "cells": [
    {
      "cell_type": "markdown",
      "metadata": {
        "id": "view-in-github",
        "colab_type": "text"
      },
      "source": [
        "<a href=\"https://colab.research.google.com/github/DarthSaurus/Bedu/blob/Analisis-de-Datos-con-Python/estimados_de_locacion.ipynb\" target=\"_parent\"><img src=\"https://colab.research.google.com/assets/colab-badge.svg\" alt=\"Open In Colab\"/></a>"
      ]
    },
    {
      "cell_type": "markdown",
      "metadata": {
        "id": "KE0qhga-i6Hj"
      },
      "source": [
        "## Reto 2: Estimados de locación\n",
        "\n",
        "### 1. Objetivos:\n",
        "    - Practicar el uso de estimados de locación\n",
        "\n",
        "---\n",
        "    \n",
        "### 2. Desarrollo:"
      ]
    },
    {
      "cell_type": "markdown",
      "metadata": {
        "id": "DJ9eaoR9i6Hl"
      },
      "source": [
        "#### a) Estimados de locación de diámetros de meteoritos\n",
        "\n",
        "Vamos a utilizar los métodos de pandas para obtener estimados de locación de un conjunto de datos que contiene información acerca de objetos que orbitaron cerca de la Tierra durante el periodo de enero y febrero de 1995.\n",
        "\n",
        "El dataset se llama 'near_earth_objects-jan_feb_1995-clean.csv' y la columna que vamos a analizar se llama 'estimated_diameter.meters.estimated_diameter_max'. Esta columna contiene el diámetro máximo estimado de cada objeto.\n",
        "\n",
        "El reto es el siguiente:\n",
        "\n",
        "1. Lee el dataset usando `pandas`.\n",
        "2. Obtén el promedio y la mediana usando las funciones de pandas y asígnalas a `promedio_diametro` y `mediana_diametro`.\n",
        "3. Corre la celda que contiene el código para verificar tus resultados.\n",
        "4. Responde la pregunta que te regresa la función de verificación."
      ]
    },
    {
      "cell_type": "code",
      "source": [
        "from google.colab import drive\n",
        "drive.mount('/content/drive')"
      ],
      "metadata": {
        "id": "I9pJrRkkjEup",
        "outputId": "b8c91912-6056-4604-c937-3babe1f5b328",
        "colab": {
          "base_uri": "https://localhost:8080/"
        }
      },
      "execution_count": null,
      "outputs": [
        {
          "output_type": "stream",
          "name": "stdout",
          "text": [
            "Mounted at /content/drive\n"
          ]
        }
      ]
    },
    {
      "cell_type": "code",
      "source": [
        "import pandas as pd"
      ],
      "metadata": {
        "id": "qgIZGzT3jC8J"
      },
      "execution_count": null,
      "outputs": []
    },
    {
      "cell_type": "code",
      "execution_count": null,
      "metadata": {
        "id": "qsmfYG4ni6Hm",
        "outputId": "1917bb0a-da08-45b9-a5b0-d4452d1b838e",
        "colab": {
          "base_uri": "https://localhost:8080/",
          "height": 348
        }
      },
      "outputs": [
        {
          "output_type": "execute_result",
          "data": {
            "text/plain": [
              "   Unnamed: 0       id                name  is_potentially_hazardous_asteroid  \\\n",
              "0           0  2154652  154652 (2004 EP20)                              False   \n",
              "1           1  3153509           (2003 HM)                               True   \n",
              "2           2  3516633           (2010 HA)                              False   \n",
              "3           3  3837644          (2019 AY3)                              False   \n",
              "4           4  3843493           (2019 PY)                              False   \n",
              "\n",
              "   estimated_diameter.meters.estimated_diameter_min  \\\n",
              "0                                        483.676488   \n",
              "1                                         96.506147   \n",
              "2                                         44.111820   \n",
              "3                                         46.190746   \n",
              "4                                         22.108281   \n",
              "\n",
              "   estimated_diameter.meters.estimated_diameter_max close_approach_date  \\\n",
              "0                                       1081.533507          1995-01-07   \n",
              "1                                        215.794305          1995-01-07   \n",
              "2                                         98.637028          1995-01-07   \n",
              "3                                        103.285648          1995-01-07   \n",
              "4                                         49.435619          1995-01-07   \n",
              "\n",
              "   epoch_date_close_approach orbiting_body  \\\n",
              "0               789467580000         Earth   \n",
              "1               789491340000         Earth   \n",
              "2               789446820000         Earth   \n",
              "3               789513900000         Earth   \n",
              "4               789446700000         Earth   \n",
              "\n",
              "   relative_velocity.kilometers_per_second  \\\n",
              "0                                16.142864   \n",
              "1                                12.351044   \n",
              "2                                 6.220435   \n",
              "3                                22.478615   \n",
              "4                                 4.998691   \n",
              "\n",
              "   relative_velocity.kilometers_per_hour  \n",
              "0                           58114.308667  \n",
              "1                           44463.757734  \n",
              "2                           22393.567277  \n",
              "3                           80923.015021  \n",
              "4                           17995.288355  "
            ],
            "text/html": [
              "\n",
              "  <div id=\"df-f87cb34b-aa17-48d5-9154-83c0070e2834\" class=\"colab-df-container\">\n",
              "    <div>\n",
              "<style scoped>\n",
              "    .dataframe tbody tr th:only-of-type {\n",
              "        vertical-align: middle;\n",
              "    }\n",
              "\n",
              "    .dataframe tbody tr th {\n",
              "        vertical-align: top;\n",
              "    }\n",
              "\n",
              "    .dataframe thead th {\n",
              "        text-align: right;\n",
              "    }\n",
              "</style>\n",
              "<table border=\"1\" class=\"dataframe\">\n",
              "  <thead>\n",
              "    <tr style=\"text-align: right;\">\n",
              "      <th></th>\n",
              "      <th>Unnamed: 0</th>\n",
              "      <th>id</th>\n",
              "      <th>name</th>\n",
              "      <th>is_potentially_hazardous_asteroid</th>\n",
              "      <th>estimated_diameter.meters.estimated_diameter_min</th>\n",
              "      <th>estimated_diameter.meters.estimated_diameter_max</th>\n",
              "      <th>close_approach_date</th>\n",
              "      <th>epoch_date_close_approach</th>\n",
              "      <th>orbiting_body</th>\n",
              "      <th>relative_velocity.kilometers_per_second</th>\n",
              "      <th>relative_velocity.kilometers_per_hour</th>\n",
              "    </tr>\n",
              "  </thead>\n",
              "  <tbody>\n",
              "    <tr>\n",
              "      <th>0</th>\n",
              "      <td>0</td>\n",
              "      <td>2154652</td>\n",
              "      <td>154652 (2004 EP20)</td>\n",
              "      <td>False</td>\n",
              "      <td>483.676488</td>\n",
              "      <td>1081.533507</td>\n",
              "      <td>1995-01-07</td>\n",
              "      <td>789467580000</td>\n",
              "      <td>Earth</td>\n",
              "      <td>16.142864</td>\n",
              "      <td>58114.308667</td>\n",
              "    </tr>\n",
              "    <tr>\n",
              "      <th>1</th>\n",
              "      <td>1</td>\n",
              "      <td>3153509</td>\n",
              "      <td>(2003 HM)</td>\n",
              "      <td>True</td>\n",
              "      <td>96.506147</td>\n",
              "      <td>215.794305</td>\n",
              "      <td>1995-01-07</td>\n",
              "      <td>789491340000</td>\n",
              "      <td>Earth</td>\n",
              "      <td>12.351044</td>\n",
              "      <td>44463.757734</td>\n",
              "    </tr>\n",
              "    <tr>\n",
              "      <th>2</th>\n",
              "      <td>2</td>\n",
              "      <td>3516633</td>\n",
              "      <td>(2010 HA)</td>\n",
              "      <td>False</td>\n",
              "      <td>44.111820</td>\n",
              "      <td>98.637028</td>\n",
              "      <td>1995-01-07</td>\n",
              "      <td>789446820000</td>\n",
              "      <td>Earth</td>\n",
              "      <td>6.220435</td>\n",
              "      <td>22393.567277</td>\n",
              "    </tr>\n",
              "    <tr>\n",
              "      <th>3</th>\n",
              "      <td>3</td>\n",
              "      <td>3837644</td>\n",
              "      <td>(2019 AY3)</td>\n",
              "      <td>False</td>\n",
              "      <td>46.190746</td>\n",
              "      <td>103.285648</td>\n",
              "      <td>1995-01-07</td>\n",
              "      <td>789513900000</td>\n",
              "      <td>Earth</td>\n",
              "      <td>22.478615</td>\n",
              "      <td>80923.015021</td>\n",
              "    </tr>\n",
              "    <tr>\n",
              "      <th>4</th>\n",
              "      <td>4</td>\n",
              "      <td>3843493</td>\n",
              "      <td>(2019 PY)</td>\n",
              "      <td>False</td>\n",
              "      <td>22.108281</td>\n",
              "      <td>49.435619</td>\n",
              "      <td>1995-01-07</td>\n",
              "      <td>789446700000</td>\n",
              "      <td>Earth</td>\n",
              "      <td>4.998691</td>\n",
              "      <td>17995.288355</td>\n",
              "    </tr>\n",
              "  </tbody>\n",
              "</table>\n",
              "</div>\n",
              "    <div class=\"colab-df-buttons\">\n",
              "\n",
              "  <div class=\"colab-df-container\">\n",
              "    <button class=\"colab-df-convert\" onclick=\"convertToInteractive('df-f87cb34b-aa17-48d5-9154-83c0070e2834')\"\n",
              "            title=\"Convert this dataframe to an interactive table.\"\n",
              "            style=\"display:none;\">\n",
              "\n",
              "  <svg xmlns=\"http://www.w3.org/2000/svg\" height=\"24px\" viewBox=\"0 -960 960 960\">\n",
              "    <path d=\"M120-120v-720h720v720H120Zm60-500h600v-160H180v160Zm220 220h160v-160H400v160Zm0 220h160v-160H400v160ZM180-400h160v-160H180v160Zm440 0h160v-160H620v160ZM180-180h160v-160H180v160Zm440 0h160v-160H620v160Z\"/>\n",
              "  </svg>\n",
              "    </button>\n",
              "\n",
              "  <style>\n",
              "    .colab-df-container {\n",
              "      display:flex;\n",
              "      gap: 12px;\n",
              "    }\n",
              "\n",
              "    .colab-df-convert {\n",
              "      background-color: #E8F0FE;\n",
              "      border: none;\n",
              "      border-radius: 50%;\n",
              "      cursor: pointer;\n",
              "      display: none;\n",
              "      fill: #1967D2;\n",
              "      height: 32px;\n",
              "      padding: 0 0 0 0;\n",
              "      width: 32px;\n",
              "    }\n",
              "\n",
              "    .colab-df-convert:hover {\n",
              "      background-color: #E2EBFA;\n",
              "      box-shadow: 0px 1px 2px rgba(60, 64, 67, 0.3), 0px 1px 3px 1px rgba(60, 64, 67, 0.15);\n",
              "      fill: #174EA6;\n",
              "    }\n",
              "\n",
              "    .colab-df-buttons div {\n",
              "      margin-bottom: 4px;\n",
              "    }\n",
              "\n",
              "    [theme=dark] .colab-df-convert {\n",
              "      background-color: #3B4455;\n",
              "      fill: #D2E3FC;\n",
              "    }\n",
              "\n",
              "    [theme=dark] .colab-df-convert:hover {\n",
              "      background-color: #434B5C;\n",
              "      box-shadow: 0px 1px 3px 1px rgba(0, 0, 0, 0.15);\n",
              "      filter: drop-shadow(0px 1px 2px rgba(0, 0, 0, 0.3));\n",
              "      fill: #FFFFFF;\n",
              "    }\n",
              "  </style>\n",
              "\n",
              "    <script>\n",
              "      const buttonEl =\n",
              "        document.querySelector('#df-f87cb34b-aa17-48d5-9154-83c0070e2834 button.colab-df-convert');\n",
              "      buttonEl.style.display =\n",
              "        google.colab.kernel.accessAllowed ? 'block' : 'none';\n",
              "\n",
              "      async function convertToInteractive(key) {\n",
              "        const element = document.querySelector('#df-f87cb34b-aa17-48d5-9154-83c0070e2834');\n",
              "        const dataTable =\n",
              "          await google.colab.kernel.invokeFunction('convertToInteractive',\n",
              "                                                    [key], {});\n",
              "        if (!dataTable) return;\n",
              "\n",
              "        const docLinkHtml = 'Like what you see? Visit the ' +\n",
              "          '<a target=\"_blank\" href=https://colab.research.google.com/notebooks/data_table.ipynb>data table notebook</a>'\n",
              "          + ' to learn more about interactive tables.';\n",
              "        element.innerHTML = '';\n",
              "        dataTable['output_type'] = 'display_data';\n",
              "        await google.colab.output.renderOutput(dataTable, element);\n",
              "        const docLink = document.createElement('div');\n",
              "        docLink.innerHTML = docLinkHtml;\n",
              "        element.appendChild(docLink);\n",
              "      }\n",
              "    </script>\n",
              "  </div>\n",
              "\n",
              "\n",
              "<div id=\"df-f98c052c-cc1a-411b-b64b-eddfe5feceb9\">\n",
              "  <button class=\"colab-df-quickchart\" onclick=\"quickchart('df-f98c052c-cc1a-411b-b64b-eddfe5feceb9')\"\n",
              "            title=\"Suggest charts.\"\n",
              "            style=\"display:none;\">\n",
              "\n",
              "<svg xmlns=\"http://www.w3.org/2000/svg\" height=\"24px\"viewBox=\"0 0 24 24\"\n",
              "     width=\"24px\">\n",
              "    <g>\n",
              "        <path d=\"M19 3H5c-1.1 0-2 .9-2 2v14c0 1.1.9 2 2 2h14c1.1 0 2-.9 2-2V5c0-1.1-.9-2-2-2zM9 17H7v-7h2v7zm4 0h-2V7h2v10zm4 0h-2v-4h2v4z\"/>\n",
              "    </g>\n",
              "</svg>\n",
              "  </button>\n",
              "\n",
              "<style>\n",
              "  .colab-df-quickchart {\n",
              "      --bg-color: #E8F0FE;\n",
              "      --fill-color: #1967D2;\n",
              "      --hover-bg-color: #E2EBFA;\n",
              "      --hover-fill-color: #174EA6;\n",
              "      --disabled-fill-color: #AAA;\n",
              "      --disabled-bg-color: #DDD;\n",
              "  }\n",
              "\n",
              "  [theme=dark] .colab-df-quickchart {\n",
              "      --bg-color: #3B4455;\n",
              "      --fill-color: #D2E3FC;\n",
              "      --hover-bg-color: #434B5C;\n",
              "      --hover-fill-color: #FFFFFF;\n",
              "      --disabled-bg-color: #3B4455;\n",
              "      --disabled-fill-color: #666;\n",
              "  }\n",
              "\n",
              "  .colab-df-quickchart {\n",
              "    background-color: var(--bg-color);\n",
              "    border: none;\n",
              "    border-radius: 50%;\n",
              "    cursor: pointer;\n",
              "    display: none;\n",
              "    fill: var(--fill-color);\n",
              "    height: 32px;\n",
              "    padding: 0;\n",
              "    width: 32px;\n",
              "  }\n",
              "\n",
              "  .colab-df-quickchart:hover {\n",
              "    background-color: var(--hover-bg-color);\n",
              "    box-shadow: 0 1px 2px rgba(60, 64, 67, 0.3), 0 1px 3px 1px rgba(60, 64, 67, 0.15);\n",
              "    fill: var(--button-hover-fill-color);\n",
              "  }\n",
              "\n",
              "  .colab-df-quickchart-complete:disabled,\n",
              "  .colab-df-quickchart-complete:disabled:hover {\n",
              "    background-color: var(--disabled-bg-color);\n",
              "    fill: var(--disabled-fill-color);\n",
              "    box-shadow: none;\n",
              "  }\n",
              "\n",
              "  .colab-df-spinner {\n",
              "    border: 2px solid var(--fill-color);\n",
              "    border-color: transparent;\n",
              "    border-bottom-color: var(--fill-color);\n",
              "    animation:\n",
              "      spin 1s steps(1) infinite;\n",
              "  }\n",
              "\n",
              "  @keyframes spin {\n",
              "    0% {\n",
              "      border-color: transparent;\n",
              "      border-bottom-color: var(--fill-color);\n",
              "      border-left-color: var(--fill-color);\n",
              "    }\n",
              "    20% {\n",
              "      border-color: transparent;\n",
              "      border-left-color: var(--fill-color);\n",
              "      border-top-color: var(--fill-color);\n",
              "    }\n",
              "    30% {\n",
              "      border-color: transparent;\n",
              "      border-left-color: var(--fill-color);\n",
              "      border-top-color: var(--fill-color);\n",
              "      border-right-color: var(--fill-color);\n",
              "    }\n",
              "    40% {\n",
              "      border-color: transparent;\n",
              "      border-right-color: var(--fill-color);\n",
              "      border-top-color: var(--fill-color);\n",
              "    }\n",
              "    60% {\n",
              "      border-color: transparent;\n",
              "      border-right-color: var(--fill-color);\n",
              "    }\n",
              "    80% {\n",
              "      border-color: transparent;\n",
              "      border-right-color: var(--fill-color);\n",
              "      border-bottom-color: var(--fill-color);\n",
              "    }\n",
              "    90% {\n",
              "      border-color: transparent;\n",
              "      border-bottom-color: var(--fill-color);\n",
              "    }\n",
              "  }\n",
              "</style>\n",
              "\n",
              "  <script>\n",
              "    async function quickchart(key) {\n",
              "      const quickchartButtonEl =\n",
              "        document.querySelector('#' + key + ' button');\n",
              "      quickchartButtonEl.disabled = true;  // To prevent multiple clicks.\n",
              "      quickchartButtonEl.classList.add('colab-df-spinner');\n",
              "      try {\n",
              "        const charts = await google.colab.kernel.invokeFunction(\n",
              "            'suggestCharts', [key], {});\n",
              "      } catch (error) {\n",
              "        console.error('Error during call to suggestCharts:', error);\n",
              "      }\n",
              "      quickchartButtonEl.classList.remove('colab-df-spinner');\n",
              "      quickchartButtonEl.classList.add('colab-df-quickchart-complete');\n",
              "    }\n",
              "    (() => {\n",
              "      let quickchartButtonEl =\n",
              "        document.querySelector('#df-f98c052c-cc1a-411b-b64b-eddfe5feceb9 button');\n",
              "      quickchartButtonEl.style.display =\n",
              "        google.colab.kernel.accessAllowed ? 'block' : 'none';\n",
              "    })();\n",
              "  </script>\n",
              "</div>\n",
              "    </div>\n",
              "  </div>\n"
            ]
          },
          "metadata": {},
          "execution_count": 8
        }
      ],
      "source": [
        "# Lee el dataset y asígnalo a esta variable\n",
        "\n",
        "df_meteoritos = pd.read_csv('/content/drive/MyDrive/Remoto Datasets/Remoto near_earth_objects-jan_feb_1995-clean.csv')\n",
        "df_meteoritos.head()"
      ]
    },
    {
      "cell_type": "code",
      "source": [
        "def promedio_custom(serie):\n",
        "    \"\"\"Calcula el promedio de una serie de pandas.\"\"\"\n",
        "    return serie.sum() / len(serie)"
      ],
      "metadata": {
        "id": "R2iAyB8mm0Vq"
      },
      "execution_count": null,
      "outputs": []
    },
    {
      "cell_type": "code",
      "execution_count": null,
      "metadata": {
        "id": "Ah9hvhtIi6Hm"
      },
      "outputs": [],
      "source": [
        "promedio_diametro = promedio_custom(df_meteoritos['estimated_diameter.meters.estimated_diameter_max'])"
      ]
    },
    {
      "cell_type": "code",
      "source": [
        "def promedio_custom(serie):\n",
        "    \"\"\"Calcula el promedio de una serie de pandas.\"\"\"\n",
        "    return serie.sum() / len(serie)"
      ],
      "metadata": {
        "id": "azYGDiOrm5q9"
      },
      "execution_count": null,
      "outputs": []
    },
    {
      "cell_type": "code",
      "execution_count": null,
      "metadata": {
        "id": "MjjA8AQsi6Hm"
      },
      "outputs": [],
      "source": [
        "mediana_diametro = promedio_diametro = promedio_custom(df_meteoritos['estimated_diameter.meters.estimated_diameter_max'])\n"
      ]
    },
    {
      "cell_type": "code",
      "source": [
        "def promedio_custom(serie):\n",
        "    \"\"\"Calcula el promedio de una serie de pandas.\"\"\"\n",
        "    return serie.sum() / len(serie)\n",
        "\n",
        "def mediana_custom(serie):\n",
        "    \"\"\"Calcula la mediana de una serie de pandas.\"\"\"\n",
        "    serie_sorted = serie.sort_values().reset_index(drop=True)\n",
        "    n = len(serie_sorted)\n",
        "\n",
        "    if n % 2 == 0:  # Si es par\n",
        "        return (serie_sorted[n//2 - 1] + serie_sorted[n//2]) / 2\n",
        "    else:  # Si es impar\n",
        "        return serie_sorted[n//2]\n",
        "\n",
        "\"Funciones definidas correctamente\"\n",
        "\n"
      ],
      "metadata": {
        "id": "MpU81ovSneDX",
        "outputId": "d23f04c3-4824-4490-9bc0-ef30dbc0784a",
        "colab": {
          "base_uri": "https://localhost:8080/",
          "height": 35
        }
      },
      "execution_count": null,
      "outputs": [
        {
          "output_type": "execute_result",
          "data": {
            "text/plain": [
              "'Funciones definidas correctamente'"
            ],
            "application/vnd.google.colaboratory.intrinsic+json": {
              "type": "string"
            }
          },
          "metadata": {},
          "execution_count": 18
        }
      ]
    },
    {
      "cell_type": "code",
      "source": [
        "# Calcular promedio y mediana con las funciones personalizadas\n",
        "promedio_custom_result = promedio_custom(df_meteoritos['estimated_diameter.meters.estimated_diameter_max'])\n",
        "mediana_custom_result = mediana_custom(df_meteoritos['estimated_diameter.meters.estimated_diameter_max'])\n",
        "\n",
        "promedio_custom_result, mediana_custom_result\n"
      ],
      "metadata": {
        "id": "DUmUe9xcn7jz",
        "outputId": "dc7535db-043c-440a-d017-bd748c61fd1d",
        "colab": {
          "base_uri": "https://localhost:8080/"
        }
      },
      "execution_count": null,
      "outputs": [
        {
          "output_type": "execute_result",
          "data": {
            "text/plain": [
              "(410.08604223976545, 215.7943048444)"
            ]
          },
          "metadata": {},
          "execution_count": 19
        }
      ]
    },
    {
      "cell_type": "code",
      "source": [
        "def verificar_resultados(df_meteoritos, promedio_diametro, mediana_diametro):\n",
        "    promedio = df_meteoritos['estimated_diameter.meters.estimated_diameter_max'].mean()\n",
        "    if promedio_diametro != promedio:\n",
        "        print(f'El promedio no fue calculado correctamente.')\n",
        "        print(f'Promedio esperado: {promedio}; Promedio recibido: {promedio_diametro}')\n",
        "        return\n",
        "\n",
        "\n",
        "    mediana = df_meteoritos['estimated_diameter.meters.estimated_diameter_max'].median()\n",
        "    if mediana_diametro != mediana:\n",
        "        print(f'La mediana no fue calculada correctamente.')\n",
        "        print(f'Mediana esperada: {mediana}; Mediana recibida: {mediana_diametro}')\n",
        "        return\n",
        "\n",
        "    print(f'Los estimados fueron calcualados correctamente.\\n')\n",
        "    print(f'El promedio calculado fue de {promedio_diametro} mientras que la mediana fue de {mediana_diametro}.')\n",
        "    print(f'¿A qué le atribuyes tú la diferencia?')\n",
        "\n",
        "\"Función 'verificar_resultados' definida correctamente\"\n"
      ],
      "metadata": {
        "id": "Lv1C805HoKvr",
        "outputId": "eb3e4036-5f1a-44fc-f483-3c4278b773c4",
        "colab": {
          "base_uri": "https://localhost:8080/",
          "height": 35
        }
      },
      "execution_count": null,
      "outputs": [
        {
          "output_type": "execute_result",
          "data": {
            "text/plain": [
              "\"Función 'verificar_resultados' definida correctamente\""
            ],
            "application/vnd.google.colaboratory.intrinsic+json": {
              "type": "string"
            }
          },
          "metadata": {},
          "execution_count": 20
        }
      ]
    },
    {
      "cell_type": "code",
      "source": [
        "# Pídele al experto la función `verificar_resultados` para que puedas correr la siguiente verificación\n",
        "\n",
        "# Usar la función de verificación con los resultados obtenidos previamente\n",
        "verificar_resultados(df_meteoritos, promedio_custom_result, mediana_custom_result)\n"
      ],
      "metadata": {
        "id": "Tf6HJW-xoM01",
        "outputId": "1dca7898-6e1c-4b58-f91c-e82ee2432163",
        "colab": {
          "base_uri": "https://localhost:8080/"
        }
      },
      "execution_count": null,
      "outputs": [
        {
          "output_type": "stream",
          "name": "stdout",
          "text": [
            "Los estimados fueron calcualados correctamente.\n",
            "\n",
            "El promedio calculado fue de 410.08604223976545 mientras que la mediana fue de 215.7943048444.\n",
            "¿A qué le atribuyes tú la diferencia?\n"
          ]
        }
      ]
    }
  ],
  "metadata": {
    "kernelspec": {
      "display_name": "Python (data_science)",
      "language": "python",
      "name": "data_science"
    },
    "language_info": {
      "codemirror_mode": {
        "name": "ipython",
        "version": 3
      },
      "file_extension": ".py",
      "mimetype": "text/x-python",
      "name": "python",
      "nbconvert_exporter": "python",
      "pygments_lexer": "ipython3",
      "version": "3.8.5"
    },
    "colab": {
      "provenance": [],
      "include_colab_link": true
    }
  },
  "nbformat": 4,
  "nbformat_minor": 0
}